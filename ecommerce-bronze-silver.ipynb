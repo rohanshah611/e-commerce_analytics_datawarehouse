{
 "cells": [
  {
   "cell_type": "code",
   "execution_count": 20,
   "metadata": {},
   "outputs": [
    {
     "name": "stderr",
     "output_type": "stream",
     "text": [
      "You are already connected to a glueetl session 6ea8cfde-9f3f-4bfd-9c8e-ed99e3fd7394.\n",
      "\n",
      "No change will be made to the current session that is set as glueetl. The session configuration change will apply to newly created sessions.\n"
     ]
    },
    {
     "name": "stdout",
     "output_type": "stream",
     "text": [
      "Current idle_timeout is 2880 minutes.\n",
      "idle_timeout has been set to 2880 minutes.\n"
     ]
    },
    {
     "name": "stderr",
     "output_type": "stream",
     "text": [
      "You are already connected to a glueetl session 6ea8cfde-9f3f-4bfd-9c8e-ed99e3fd7394.\n",
      "\n",
      "No change will be made to the current session that is set as glueetl. The session configuration change will apply to newly created sessions.\n"
     ]
    },
    {
     "name": "stdout",
     "output_type": "stream",
     "text": [
      "Setting Glue version to: 4.0\n"
     ]
    },
    {
     "name": "stderr",
     "output_type": "stream",
     "text": [
      "You are already connected to a glueetl session 6ea8cfde-9f3f-4bfd-9c8e-ed99e3fd7394.\n",
      "\n",
      "No change will be made to the current session that is set as glueetl. The session configuration change will apply to newly created sessions.\n"
     ]
    },
    {
     "name": "stdout",
     "output_type": "stream",
     "text": [
      "Previous worker type: G.1X\n",
      "Setting new worker type to: G.1X\n"
     ]
    },
    {
     "name": "stderr",
     "output_type": "stream",
     "text": [
      "You are already connected to a glueetl session 6ea8cfde-9f3f-4bfd-9c8e-ed99e3fd7394.\n",
      "\n",
      "No change will be made to the current session that is set as glueetl. The session configuration change will apply to newly created sessions.\n"
     ]
    },
    {
     "name": "stdout",
     "output_type": "stream",
     "text": [
      "Previous number of workers: 2\n",
      "Setting new number of workers to: 2\n",
      "\n"
     ]
    }
   ],
   "source": [
    "%idle_timeout 2880\n",
    "%glue_version 4.0\n",
    "%worker_type G.1X\n",
    "%number_of_workers 2\n",
    "\n",
    "import sys\n",
    "from awsglue.dynamicframe import DynamicFrame\n",
    "from awsglue.transforms import *\n",
    "from awsglue.utils import getResolvedOptions\n",
    "from pyspark.context import SparkContext\n",
    "from awsglue.context import GlueContext\n",
    "from awsglue.job import Job\n",
    "import pyspark.pandas as pd\n",
    "from pyspark.sql.types import *\n",
    "from pyspark.sql.functions import col, lpad, to_timestamp\n",
    "\n",
    "sc = SparkContext.getOrCreate()\n",
    "glueContext = GlueContext(sc)\n",
    "spark = glueContext.spark_session\n",
    "job = Job(glueContext)"
   ]
  },
  {
   "cell_type": "markdown",
   "metadata": {
    "tags": []
   },
   "source": [
    "###Create a DynamicFrame from a table in the AWS Glue Data Catalog and display its schema\n"
   ]
  },
  {
   "cell_type": "code",
   "execution_count": 21,
   "metadata": {
    "tags": []
   },
   "outputs": [
    {
     "name": "stdout",
     "output_type": "stream",
     "text": [
      "\n"
     ]
    }
   ],
   "source": [
    "bronze_olist_customers_dataset = glueContext.create_dynamic_frame.from_catalog(database='ecommerce-datalake', table_name='olistcustomersdataset')\n",
    "bronze_olist_geolocation_dataset = glueContext.create_dynamic_frame.from_catalog(database='ecommerce-datalake', table_name='olistgeolocationdataset')\n",
    "bronze_olist_orderitems_dataset = glueContext.create_dynamic_frame.from_catalog(database='ecommerce-datalake', table_name='olistorderitemsdataset')\n",
    "bronze_olist_orderpayments_dataset = glueContext.create_dynamic_frame.from_catalog(database='ecommerce-datalake', table_name='olistorderpaymentsdataset')\n",
    "bronze_olist_orderreviews_dataset = glueContext.create_dynamic_frame.from_catalog(database='ecommerce-datalake', table_name='olistorderreviewsdataset')\n",
    "bronze_olist_orders_dataset = glueContext.create_dynamic_frame.from_catalog(database='ecommerce-datalake', table_name='olistordersdataset')\n",
    "bronze_olist_products_dataset = glueContext.create_dynamic_frame.from_catalog(database='ecommerce-datalake', table_name='olistproductsdataset')\n",
    "bronze_olist_sellers_dataset = glueContext.create_dynamic_frame.from_catalog(database='ecommerce-datalake', table_name='olistsellersdataset')\n",
    "bronze_product_category_name_translation = glueContext.create_dynamic_frame.from_catalog(database='ecommerce-datalake', table_name='productcategorynametranslation')"
   ]
  },
  {
   "cell_type": "code",
   "execution_count": 22,
   "metadata": {
    "tags": []
   },
   "outputs": [
    {
     "name": "stdout",
     "output_type": "stream",
     "text": [
      "\n"
     ]
    }
   ],
   "source": [
    "#Customer df cleanup\n",
    "df_bronze_olist_customers_dataset = bronze_olist_customers_dataset.toDF()\n",
    "df_bronze_olist_customers_dataset = df_bronze_olist_customers_dataset.dropDuplicates()\n",
    "df_bronze_olist_customers_dataset = df_bronze_olist_customers_dataset.withColumn('customer_zip_code_prefix', col('customer_zip_code_prefix').cast('string'))\n",
    "df_bronze_olist_customers_dataset = df_bronze_olist_customers_dataset.withColumn('customer_zip_code_prefix', lpad(col('customer_zip_code_prefix'), 5, '0'))\n",
    "df_bronze_olist_customers_dataset = df_bronze_olist_customers_dataset.withColumnRenamed('customer_zip_code_prefix', 'customer_zip_code')\n",
    "df_bronze_olist_customers_dataset_cleaned = DynamicFrame.fromDF(df_bronze_olist_customers_dataset, glueContext)"
   ]
  },
  {
   "cell_type": "code",
   "execution_count": 34,
   "metadata": {
    "tags": []
   },
   "outputs": [
    {
     "name": "stdout",
     "output_type": "stream",
     "text": [
      "\n"
     ]
    }
   ],
   "source": [
    "datasink1 = glueContext.write_dynamic_frame.from_options(frame = df_bronze_olist_customers_dataset_cleaned, connection_type = \"s3\", connection_options = {\"path\": \"s3://ecommerce-silver/customers/\"}, format = \"parquet\")\n"
   ]
  },
  {
   "cell_type": "code",
   "execution_count": 23,
   "metadata": {
    "tags": []
   },
   "outputs": [
    {
     "name": "stdout",
     "output_type": "stream",
     "text": [
      "\n"
     ]
    }
   ],
   "source": [
    "#Seller df cleanup\n",
    "df_bronze_olist_sellers_dataset = bronze_olist_sellers_dataset.toDF()\n",
    "df_bronze_olist_sellers_dataset = df_bronze_olist_sellers_dataset.dropDuplicates()\n",
    "df_bronze_olist_sellers_dataset = df_bronze_olist_sellers_dataset.withColumn('seller_zip_code_prefix', col('seller_zip_code_prefix').cast('string'))\n",
    "df_bronze_olist_sellers_dataset = df_bronze_olist_sellers_dataset.withColumn('seller_zip_code_prefix', lpad(col('seller_zip_code_prefix'), 5, '0'))\n",
    "df_bronze_olist_sellers_dataset = df_bronze_olist_sellers_dataset.withColumnRenamed('seller_zip_code_prefix', 'seller_zip_code')\n",
    "df_bronze_olist_sellers_dataset_cleaned = DynamicFrame.fromDF(df_bronze_olist_sellers_dataset, glueContext)"
   ]
  },
  {
   "cell_type": "code",
   "execution_count": 35,
   "metadata": {
    "tags": []
   },
   "outputs": [
    {
     "name": "stdout",
     "output_type": "stream",
     "text": [
      "\n"
     ]
    }
   ],
   "source": [
    "datasink2 = glueContext.write_dynamic_frame.from_options(frame = df_bronze_olist_sellers_dataset_cleaned, connection_type = \"s3\", connection_options = {\"path\": \"s3://ecommerce-silver/sellers/\"}, format = \"parquet\")\n"
   ]
  },
  {
   "cell_type": "code",
   "execution_count": 24,
   "metadata": {
    "tags": []
   },
   "outputs": [
    {
     "name": "stdout",
     "output_type": "stream",
     "text": [
      "\n"
     ]
    }
   ],
   "source": [
    "#Product category lookup df cleanup\n",
    "df_bronze_product_category_name_translation = bronze_product_category_name_translation.toDF()\n",
    "df = df_bronze_product_category_name_translation\n",
    "header = df_bronze_product_category_name_translation.filter((df['col0'] == 'product_category_name') & (df_bronze_product_category_name_translation['col1'] == 'product_category_name_english'))\n",
    "restDF = df_bronze_product_category_name_translation.subtract(header)\n",
    "headerColumn = header.first()\n",
    "for column in restDF.columns:\n",
    "    restDF = restDF.withColumnRenamed(column, headerColumn[column])\n",
    "df_bronze_product_category_name_translation_cleaned = DynamicFrame.fromDF(restDF, glueContext)"
   ]
  },
  {
   "cell_type": "code",
   "execution_count": 26,
   "metadata": {
    "tags": []
   },
   "outputs": [
    {
     "name": "stdout",
     "output_type": "stream",
     "text": [
      "\n"
     ]
    }
   ],
   "source": [
    "#Product df cleanup\n",
    "df_bronze_olist_products_dataset = bronze_olist_products_dataset.toDF()\n",
    "df_bronze_olist_products_dataset = df_bronze_olist_products_dataset.dropDuplicates()\n",
    "df_bronze_olist_products_dataset = df_bronze_olist_products_dataset \\\n",
    "    .join(restDF,\n",
    "          on='product_category_name', \n",
    "          how='left_outer')\n",
    "df_bronze_olist_products_dataset = df_bronze_olist_products_dataset \\\n",
    "    .withColumn('product_category_name_english',\n",
    "                col('product_category_name_english')\n",
    "                .cast(StringType())) \\\n",
    "    .fillna({'product_category_name': 'Uncategorized',\n",
    "             'product_category_name_english': 'Uncategorized'})\n",
    "df_bronze_olist_products_dataset_cleaned = DynamicFrame.fromDF(df_bronze_olist_products_dataset, glueContext)"
   ]
  },
  {
   "cell_type": "code",
   "execution_count": 36,
   "metadata": {
    "tags": []
   },
   "outputs": [
    {
     "name": "stdout",
     "output_type": "stream",
     "text": [
      "\n"
     ]
    }
   ],
   "source": [
    "datasink3 = glueContext.write_dynamic_frame.from_options(frame = df_bronze_olist_products_dataset_cleaned, connection_type = \"s3\", connection_options = {\"path\": \"s3://ecommerce-silver/product/\"}, format = \"parquet\")\n"
   ]
  },
  {
   "cell_type": "code",
   "execution_count": 27,
   "metadata": {
    "tags": []
   },
   "outputs": [
    {
     "name": "stdout",
     "output_type": "stream",
     "text": [
      "/opt/amazon/spark/python/lib/pyspark.zip/pyspark/sql/pandas/conversion.py:474: FutureWarning: iteritems is deprecated and will be removed in a future version. Use .items instead.\n",
      "  for column, series in pdf.iteritems():\n",
      "/opt/amazon/spark/python/lib/pyspark.zip/pyspark/sql/pandas/conversion.py:486: FutureWarning: iteritems is deprecated and will be removed in a future version. Use .items instead.\n",
      "  for column, series in pdf.iteritems():\n"
     ]
    }
   ],
   "source": [
    "#Order df cleanup\n",
    "df_bronze_olist_orders_dataset = bronze_olist_orders_dataset.toDF().toPandas()\n",
    "\n",
    "new_header = df_bronze_olist_orders_dataset.iloc[0] \n",
    "df_bronze_olist_orders_dataset = df_bronze_olist_orders_dataset[1:] \n",
    "df_bronze_olist_orders_dataset.columns = new_header\n",
    "df_bronze_olist_orders_dataset = spark.createDataFrame(df_bronze_olist_orders_dataset)\n",
    "df_bronze_olist_orders_dataset = df_bronze_olist_orders_dataset.dropDuplicates()\n",
    "\n",
    "df_bronze_olist_orders_dataset = df_bronze_olist_orders_dataset \\\n",
    "    .withColumn('order_purchase_timestamp', to_timestamp(col('order_purchase_timestamp'), 'yyyy-MM-dd HH:mm:ss')) \\\n",
    "    .withColumn('order_approved_at', to_timestamp(col('order_approved_at'), 'yyyy-MM-dd HH:mm:ss')) \\\n",
    "    .withColumn('order_delivered_carrier_date', to_timestamp(col('order_delivered_carrier_date'), 'yyyy-MM-dd HH:mm:ss')) \\\n",
    "    .withColumn('order_delivered_customer_date', to_timestamp(col('order_delivered_customer_date'), 'yyyy-MM-dd HH:mm:ss')) \\\n",
    "    .withColumn('order_estimated_delivery_date', to_timestamp(col('order_estimated_delivery_date'), 'yyyy-MM-dd HH:mm:ss'))\n",
    "\n",
    "df_bronze_olist_orders_dataset_cleaned = DynamicFrame.fromDF(df_bronze_olist_orders_dataset, glueContext)"
   ]
  },
  {
   "cell_type": "code",
   "execution_count": 37,
   "metadata": {
    "tags": []
   },
   "outputs": [
    {
     "name": "stdout",
     "output_type": "stream",
     "text": [
      "\n"
     ]
    }
   ],
   "source": [
    "datasink4 = glueContext.write_dynamic_frame.from_options(frame = df_bronze_olist_orders_dataset_cleaned, connection_type = \"s3\", connection_options = {\"path\": \"s3://ecommerce-silver/orders/\"}, format = \"parquet\")\n"
   ]
  },
  {
   "cell_type": "code",
   "execution_count": 28,
   "metadata": {
    "tags": []
   },
   "outputs": [
    {
     "name": "stdout",
     "output_type": "stream",
     "text": [
      "/opt/amazon/spark/python/lib/pyspark.zip/pyspark/sql/dataframe.py:127: UserWarning: DataFrame constructor is internal. Do not directly use it.\n",
      "  warnings.warn(\"DataFrame constructor is internal. Do not directly use it.\")\n"
     ]
    }
   ],
   "source": [
    "#Order items df cleanup\n",
    "df_bronze_olist_orderitems_dataset = bronze_olist_orderitems_dataset.toDF()\n",
    "df_bronze_olist_orderitems_dataset = df_bronze_olist_orderitems_dataset.drop_duplicates()\n",
    "date_format = 'yyyy-MM-dd HH:mm:ss'\n",
    "df_bronze_olist_orderitems_dataset = df_bronze_olist_orderitems_dataset \\\n",
    "    .withColumn('shipping_limit_date', to_timestamp(col('shipping_limit_date'), date_format))\n",
    "df_bronze_olist_orderitems_dataset_cleaned = DynamicFrame.fromDF(df_bronze_olist_orderitems_dataset, glueContext)"
   ]
  },
  {
   "cell_type": "code",
   "execution_count": 38,
   "metadata": {
    "tags": []
   },
   "outputs": [
    {
     "name": "stdout",
     "output_type": "stream",
     "text": [
      "\n"
     ]
    }
   ],
   "source": [
    "datasink5 = glueContext.write_dynamic_frame.from_options(frame = df_bronze_olist_orderitems_dataset_cleaned, connection_type = \"s3\", connection_options = {\"path\": \"s3://ecommerce-silver/orders_items/\"}, format = \"parquet\")\n"
   ]
  },
  {
   "cell_type": "code",
   "execution_count": 29,
   "metadata": {
    "tags": []
   },
   "outputs": [
    {
     "name": "stdout",
     "output_type": "stream",
     "text": [
      "\n"
     ]
    }
   ],
   "source": [
    "#Order payments df cleanup\n",
    "df_bronze_olist_orderpayments_dataset = bronze_olist_orderpayments_dataset.toDF()\n",
    "df_bronze_olist_orderpayments_dataset = df_bronze_olist_orderpayments_dataset.drop_duplicates()\n",
    "df_bronze_olist_orderpayments_dataset_cleaned = DynamicFrame.fromDF(df_bronze_olist_orderpayments_dataset, glueContext)"
   ]
  },
  {
   "cell_type": "code",
   "execution_count": 39,
   "metadata": {
    "tags": []
   },
   "outputs": [
    {
     "name": "stdout",
     "output_type": "stream",
     "text": [
      "\n"
     ]
    }
   ],
   "source": [
    "datasink6 = glueContext.write_dynamic_frame.from_options(frame = df_bronze_olist_orderpayments_dataset_cleaned, connection_type = \"s3\", connection_options = {\"path\": \"s3://ecommerce-silver/orders_payments/\"}, format = \"parquet\")\n"
   ]
  },
  {
   "cell_type": "code",
   "execution_count": 30,
   "metadata": {
    "tags": []
   },
   "outputs": [
    {
     "name": "stdout",
     "output_type": "stream",
     "text": [
      "\n"
     ]
    }
   ],
   "source": [
    "#Order review df cleanup\n",
    "df_bronze_olist_orderreviews_dataset = bronze_olist_orderreviews_dataset.toDF()\n",
    "df_bronze_olist_orderreviews_dataset = df_bronze_olist_orderreviews_dataset.drop_duplicates()\n",
    "date_format = 'yyyy-MM-dd HH:mm:ss'\n",
    "df_bronze_olist_orderreviews_dataset = df_bronze_olist_orderreviews_dataset \\\n",
    "    .withColumn('review_creation_date', to_timestamp(col('review_creation_date'), date_format)) \\\n",
    "    .withColumn('review_answer_timestamp', to_timestamp(col('review_answer_timestamp'), date_format))\n",
    "df_bronze_olist_orderreviews_dataset_cleaned = DynamicFrame.fromDF(df_bronze_olist_orderreviews_dataset, glueContext)"
   ]
  },
  {
   "cell_type": "code",
   "execution_count": 40,
   "metadata": {
    "tags": []
   },
   "outputs": [
    {
     "name": "stdout",
     "output_type": "stream",
     "text": [
      "\n"
     ]
    }
   ],
   "source": [
    "datasink7 = glueContext.write_dynamic_frame.from_options(frame = df_bronze_olist_orderreviews_dataset_cleaned, connection_type = \"s3\", connection_options = {\"path\": \"s3://ecommerce-silver/orders_reviews/\"}, format = \"parquet\")\n"
   ]
  },
  {
   "cell_type": "code",
   "execution_count": 31,
   "metadata": {
    "tags": []
   },
   "outputs": [
    {
     "name": "stdout",
     "output_type": "stream",
     "text": [
      "\n"
     ]
    }
   ],
   "source": [
    "#Order geolocation df cleanup\n",
    "df_bronze_olist_geolocation_dataset = bronze_olist_geolocation_dataset.toDF()\n",
    "df_bronze_olist_geolocation_dataset = df_bronze_olist_geolocation_dataset.drop_duplicates()\n",
    "df_bronze_olist_geolocation_dataset_cleaned = DynamicFrame.fromDF(df_bronze_olist_geolocation_dataset, glueContext)"
   ]
  }
 ],
 "metadata": {
  "kernelspec": {
   "display_name": "Python 3",
   "language": "python",
   "name": "python3"
  },
  "language_info": {
   "codemirror_mode": {
    "name": "ipython",
    "version": 3
   },
   "file_extension": ".py",
   "mimetype": "text/x-python",
   "name": "python",
   "nbconvert_exporter": "python",
   "pygments_lexer": "ipython3",
   "version": "3.8.5"
  },
  "toc-autonumbering": true
 },
 "nbformat": 4,
 "nbformat_minor": 4
}
